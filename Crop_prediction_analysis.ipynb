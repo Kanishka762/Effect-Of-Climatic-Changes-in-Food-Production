{
  "nbformat": 4,
  "nbformat_minor": 0,
  "metadata": {
    "colab": {
      "provenance": []
    },
    "kernelspec": {
      "name": "python3",
      "display_name": "Python 3"
    },
    "language_info": {
      "name": "python"
    },
    "widgets": {
      "application/vnd.jupyter.widget-state+json": {
        "52c2e61348594f58950e6b2736a23cbd": {
          "model_module": "@jupyter-widgets/controls",
          "model_name": "VBoxModel",
          "model_module_version": "1.5.0",
          "state": {
            "_view_name": "VBoxView",
            "_dom_classes": [
              "widget-interact"
            ],
            "_model_name": "VBoxModel",
            "_view_module": "@jupyter-widgets/controls",
            "_model_module_version": "1.5.0",
            "_view_count": null,
            "_view_module_version": "1.5.0",
            "box_style": "",
            "layout": "IPY_MODEL_0dee834b9eb947ddb561e42ecc55575b",
            "_model_module": "@jupyter-widgets/controls",
            "children": [
              "IPY_MODEL_cd64e99d8f0f42798d9f17443632c4af",
              "IPY_MODEL_485c5e20f3d642ada42687c9f2ce9acd",
              "IPY_MODEL_82dea46921b1444cb89b7b65e180a858",
              "IPY_MODEL_614aa8b72e6547638b5eb7cfa0e0d11a",
              "IPY_MODEL_992f4ee0d96a469daa15e9d4eed145d8",
              "IPY_MODEL_53c822ff6a4c42c1b6284a30e1a1007b",
              "IPY_MODEL_b5e109cff86a417c94fdafae73133da8",
              "IPY_MODEL_69fe65cea3d54e57909e2ca402308315",
              "IPY_MODEL_72d6c8aca0a844d88b2d711af7124c28"
            ]
          }
        },
        "0dee834b9eb947ddb561e42ecc55575b": {
          "model_module": "@jupyter-widgets/base",
          "model_name": "LayoutModel",
          "model_module_version": "1.2.0",
          "state": {
            "_view_name": "LayoutView",
            "grid_template_rows": null,
            "right": null,
            "justify_content": null,
            "_view_module": "@jupyter-widgets/base",
            "overflow": null,
            "_model_module_version": "1.2.0",
            "_view_count": null,
            "flex_flow": null,
            "width": null,
            "min_width": null,
            "border": null,
            "align_items": null,
            "bottom": null,
            "_model_module": "@jupyter-widgets/base",
            "top": null,
            "grid_column": null,
            "overflow_y": null,
            "overflow_x": null,
            "grid_auto_flow": null,
            "grid_area": null,
            "grid_template_columns": null,
            "flex": null,
            "_model_name": "LayoutModel",
            "justify_items": null,
            "grid_row": null,
            "max_height": null,
            "align_content": null,
            "visibility": null,
            "align_self": null,
            "height": null,
            "min_height": null,
            "padding": null,
            "grid_auto_rows": null,
            "grid_gap": null,
            "max_width": null,
            "order": null,
            "_view_module_version": "1.2.0",
            "grid_template_areas": null,
            "object_position": null,
            "object_fit": null,
            "grid_auto_columns": null,
            "margin": null,
            "display": null,
            "left": null
          }
        },
        "cd64e99d8f0f42798d9f17443632c4af": {
          "model_module": "@jupyter-widgets/controls",
          "model_name": "FloatSliderModel",
          "model_module_version": "1.5.0",
          "state": {
            "_view_name": "FloatSliderView",
            "style": "IPY_MODEL_1e4e8d54051949999acba03b3837cc73",
            "_dom_classes": [],
            "description": "Nitrogen",
            "step": 2.5,
            "_model_name": "FloatSliderModel",
            "orientation": "horizontal",
            "max": 140,
            "_view_module": "@jupyter-widgets/controls",
            "_model_module_version": "1.5.0",
            "value": 25,
            "_view_count": null,
            "disabled": false,
            "_view_module_version": "1.5.0",
            "min": 0,
            "continuous_update": true,
            "readout_format": ".2f",
            "description_tooltip": null,
            "readout": true,
            "_model_module": "@jupyter-widgets/controls",
            "layout": "IPY_MODEL_fd681f8df94144c797fc69f05ca1bc47"
          }
        },
        "485c5e20f3d642ada42687c9f2ce9acd": {
          "model_module": "@jupyter-widgets/controls",
          "model_name": "FloatSliderModel",
          "model_module_version": "1.5.0",
          "state": {
            "_view_name": "FloatSliderView",
            "style": "IPY_MODEL_fae61c3eafbd467493db330e1b04f396",
            "_dom_classes": [],
            "description": "Phosphorus",
            "step": 2.5,
            "_model_name": "FloatSliderModel",
            "orientation": "horizontal",
            "max": 145,
            "_view_module": "@jupyter-widgets/controls",
            "_model_module_version": "1.5.0",
            "value": 25,
            "_view_count": null,
            "disabled": false,
            "_view_module_version": "1.5.0",
            "min": 5,
            "continuous_update": true,
            "readout_format": ".2f",
            "description_tooltip": null,
            "readout": true,
            "_model_module": "@jupyter-widgets/controls",
            "layout": "IPY_MODEL_fdf1794f58e84bc4b72de3401c15f2f7"
          }
        },
        "82dea46921b1444cb89b7b65e180a858": {
          "model_module": "@jupyter-widgets/controls",
          "model_name": "FloatSliderModel",
          "model_module_version": "1.5.0",
          "state": {
            "_view_name": "FloatSliderView",
            "style": "IPY_MODEL_877b446e31aa4b969b7567d40c0db560",
            "_dom_classes": [],
            "description": "Potassium",
            "step": 2.5,
            "_model_name": "FloatSliderModel",
            "orientation": "horizontal",
            "max": 205,
            "_view_module": "@jupyter-widgets/controls",
            "_model_module_version": "1.5.0",
            "value": 25,
            "_view_count": null,
            "disabled": false,
            "_view_module_version": "1.5.0",
            "min": 5,
            "continuous_update": true,
            "readout_format": ".2f",
            "description_tooltip": null,
            "readout": true,
            "_model_module": "@jupyter-widgets/controls",
            "layout": "IPY_MODEL_5c4af2a1bbdb493cacd9b1509673d004"
          }
        },
        "614aa8b72e6547638b5eb7cfa0e0d11a": {
          "model_module": "@jupyter-widgets/controls",
          "model_name": "FloatSliderModel",
          "model_module_version": "1.5.0",
          "state": {
            "_view_name": "FloatSliderView",
            "style": "IPY_MODEL_6dbef76c2ef34aa59af733f31b75da09",
            "_dom_classes": [],
            "description": "Temperature",
            "step": 2.5,
            "_model_name": "FloatSliderModel",
            "orientation": "horizontal",
            "max": 44,
            "_view_module": "@jupyter-widgets/controls",
            "_model_module_version": "1.5.0",
            "value": 25,
            "_view_count": null,
            "disabled": false,
            "_view_module_version": "1.5.0",
            "min": 10,
            "continuous_update": true,
            "readout_format": ".2f",
            "description_tooltip": null,
            "readout": true,
            "_model_module": "@jupyter-widgets/controls",
            "layout": "IPY_MODEL_d821fc1e301046609c56eab1fed0434d"
          }
        },
        "992f4ee0d96a469daa15e9d4eed145d8": {
          "model_module": "@jupyter-widgets/controls",
          "model_name": "FloatSliderModel",
          "model_module_version": "1.5.0",
          "state": {
            "_view_name": "FloatSliderView",
            "style": "IPY_MODEL_9d620dc9d6324f5fa8ab3d645ac9d89c",
            "_dom_classes": [],
            "description": "humidity",
            "step": 2.5,
            "_model_name": "FloatSliderModel",
            "orientation": "horizontal",
            "max": 99,
            "_view_module": "@jupyter-widgets/controls",
            "_model_module_version": "1.5.0",
            "value": 25,
            "_view_count": null,
            "disabled": false,
            "_view_module_version": "1.5.0",
            "min": 15,
            "continuous_update": true,
            "readout_format": ".2f",
            "description_tooltip": null,
            "readout": true,
            "_model_module": "@jupyter-widgets/controls",
            "layout": "IPY_MODEL_7c3663cf4840451593fdc497b3cc27ae"
          }
        },
        "53c822ff6a4c42c1b6284a30e1a1007b": {
          "model_module": "@jupyter-widgets/controls",
          "model_name": "FloatSliderModel",
          "model_module_version": "1.5.0",
          "state": {
            "_view_name": "FloatSliderView",
            "style": "IPY_MODEL_4e86d7d0b96e474292f443b7d58712c0",
            "_dom_classes": [],
            "description": "pH",
            "step": 0.5,
            "_model_name": "FloatSliderModel",
            "orientation": "horizontal",
            "max": 9.9,
            "_view_module": "@jupyter-widgets/controls",
            "_model_module_version": "1.5.0",
            "value": 5,
            "_view_count": null,
            "disabled": false,
            "_view_module_version": "1.5.0",
            "min": 3.5,
            "continuous_update": true,
            "readout_format": ".2f",
            "description_tooltip": null,
            "readout": true,
            "_model_module": "@jupyter-widgets/controls",
            "layout": "IPY_MODEL_5b000a40159c42c8baa924be0051f039"
          }
        },
        "b5e109cff86a417c94fdafae73133da8": {
          "model_module": "@jupyter-widgets/controls",
          "model_name": "FloatSliderModel",
          "model_module_version": "1.5.0",
          "state": {
            "_view_name": "FloatSliderView",
            "style": "IPY_MODEL_3ac7cd9b4dd740c88f7d3f414ff0782f",
            "_dom_classes": [],
            "description": "Rainfall (mm)",
            "step": 2.5,
            "_model_name": "FloatSliderModel",
            "orientation": "horizontal",
            "max": 298,
            "_view_module": "@jupyter-widgets/controls",
            "_model_module_version": "1.5.0",
            "value": 25,
            "_view_count": null,
            "disabled": false,
            "_view_module_version": "1.5.0",
            "min": 20,
            "continuous_update": true,
            "readout_format": ".2f",
            "description_tooltip": null,
            "readout": true,
            "_model_module": "@jupyter-widgets/controls",
            "layout": "IPY_MODEL_309d7f930d7841978c3f72c00bfcd86a"
          }
        },
        "69fe65cea3d54e57909e2ca402308315": {
          "model_module": "@jupyter-widgets/controls",
          "model_name": "ButtonModel",
          "model_module_version": "1.5.0",
          "state": {
            "_view_name": "ButtonView",
            "style": "IPY_MODEL_db08b0cdb78b418eb052455887656c82",
            "_dom_classes": [],
            "description": "GET PREDICTION",
            "_model_name": "ButtonModel",
            "button_style": "",
            "_view_module": "@jupyter-widgets/controls",
            "_model_module_version": "1.5.0",
            "tooltip": "",
            "_view_count": null,
            "disabled": false,
            "_view_module_version": "1.5.0",
            "layout": "IPY_MODEL_9c022720836b4432ab5796a85454bcfe",
            "_model_module": "@jupyter-widgets/controls",
            "icon": ""
          }
        },
        "72d6c8aca0a844d88b2d711af7124c28": {
          "model_module": "@jupyter-widgets/output",
          "model_name": "OutputModel",
          "model_module_version": "1.0.0",
          "state": {
            "_view_name": "OutputView",
            "msg_id": "",
            "_dom_classes": [],
            "_model_name": "OutputModel",
            "outputs": [],
            "_view_module": "@jupyter-widgets/output",
            "_model_module_version": "1.0.0",
            "_view_count": null,
            "_view_module_version": "1.0.0",
            "layout": "IPY_MODEL_c6191ad5ff454123bcc4a42d8c43585e",
            "_model_module": "@jupyter-widgets/output"
          }
        },
        "1e4e8d54051949999acba03b3837cc73": {
          "model_module": "@jupyter-widgets/controls",
          "model_name": "SliderStyleModel",
          "model_module_version": "1.5.0",
          "state": {
            "_view_name": "StyleView",
            "handle_color": null,
            "_model_name": "SliderStyleModel",
            "description_width": "",
            "_view_module": "@jupyter-widgets/base",
            "_model_module_version": "1.5.0",
            "_view_count": null,
            "_view_module_version": "1.2.0",
            "_model_module": "@jupyter-widgets/controls"
          }
        },
        "fd681f8df94144c797fc69f05ca1bc47": {
          "model_module": "@jupyter-widgets/base",
          "model_name": "LayoutModel",
          "model_module_version": "1.2.0",
          "state": {
            "_view_name": "LayoutView",
            "grid_template_rows": null,
            "right": null,
            "justify_content": null,
            "_view_module": "@jupyter-widgets/base",
            "overflow": null,
            "_model_module_version": "1.2.0",
            "_view_count": null,
            "flex_flow": null,
            "width": null,
            "min_width": null,
            "border": null,
            "align_items": null,
            "bottom": null,
            "_model_module": "@jupyter-widgets/base",
            "top": null,
            "grid_column": null,
            "overflow_y": null,
            "overflow_x": null,
            "grid_auto_flow": null,
            "grid_area": null,
            "grid_template_columns": null,
            "flex": null,
            "_model_name": "LayoutModel",
            "justify_items": null,
            "grid_row": null,
            "max_height": null,
            "align_content": null,
            "visibility": null,
            "align_self": null,
            "height": null,
            "min_height": null,
            "padding": null,
            "grid_auto_rows": null,
            "grid_gap": null,
            "max_width": null,
            "order": null,
            "_view_module_version": "1.2.0",
            "grid_template_areas": null,
            "object_position": null,
            "object_fit": null,
            "grid_auto_columns": null,
            "margin": null,
            "display": null,
            "left": null
          }
        },
        "fae61c3eafbd467493db330e1b04f396": {
          "model_module": "@jupyter-widgets/controls",
          "model_name": "SliderStyleModel",
          "model_module_version": "1.5.0",
          "state": {
            "_view_name": "StyleView",
            "handle_color": null,
            "_model_name": "SliderStyleModel",
            "description_width": "",
            "_view_module": "@jupyter-widgets/base",
            "_model_module_version": "1.5.0",
            "_view_count": null,
            "_view_module_version": "1.2.0",
            "_model_module": "@jupyter-widgets/controls"
          }
        },
        "fdf1794f58e84bc4b72de3401c15f2f7": {
          "model_module": "@jupyter-widgets/base",
          "model_name": "LayoutModel",
          "model_module_version": "1.2.0",
          "state": {
            "_view_name": "LayoutView",
            "grid_template_rows": null,
            "right": null,
            "justify_content": null,
            "_view_module": "@jupyter-widgets/base",
            "overflow": null,
            "_model_module_version": "1.2.0",
            "_view_count": null,
            "flex_flow": null,
            "width": null,
            "min_width": null,
            "border": null,
            "align_items": null,
            "bottom": null,
            "_model_module": "@jupyter-widgets/base",
            "top": null,
            "grid_column": null,
            "overflow_y": null,
            "overflow_x": null,
            "grid_auto_flow": null,
            "grid_area": null,
            "grid_template_columns": null,
            "flex": null,
            "_model_name": "LayoutModel",
            "justify_items": null,
            "grid_row": null,
            "max_height": null,
            "align_content": null,
            "visibility": null,
            "align_self": null,
            "height": null,
            "min_height": null,
            "padding": null,
            "grid_auto_rows": null,
            "grid_gap": null,
            "max_width": null,
            "order": null,
            "_view_module_version": "1.2.0",
            "grid_template_areas": null,
            "object_position": null,
            "object_fit": null,
            "grid_auto_columns": null,
            "margin": null,
            "display": null,
            "left": null
          }
        },
        "877b446e31aa4b969b7567d40c0db560": {
          "model_module": "@jupyter-widgets/controls",
          "model_name": "SliderStyleModel",
          "model_module_version": "1.5.0",
          "state": {
            "_view_name": "StyleView",
            "handle_color": null,
            "_model_name": "SliderStyleModel",
            "description_width": "",
            "_view_module": "@jupyter-widgets/base",
            "_model_module_version": "1.5.0",
            "_view_count": null,
            "_view_module_version": "1.2.0",
            "_model_module": "@jupyter-widgets/controls"
          }
        },
        "5c4af2a1bbdb493cacd9b1509673d004": {
          "model_module": "@jupyter-widgets/base",
          "model_name": "LayoutModel",
          "model_module_version": "1.2.0",
          "state": {
            "_view_name": "LayoutView",
            "grid_template_rows": null,
            "right": null,
            "justify_content": null,
            "_view_module": "@jupyter-widgets/base",
            "overflow": null,
            "_model_module_version": "1.2.0",
            "_view_count": null,
            "flex_flow": null,
            "width": null,
            "min_width": null,
            "border": null,
            "align_items": null,
            "bottom": null,
            "_model_module": "@jupyter-widgets/base",
            "top": null,
            "grid_column": null,
            "overflow_y": null,
            "overflow_x": null,
            "grid_auto_flow": null,
            "grid_area": null,
            "grid_template_columns": null,
            "flex": null,
            "_model_name": "LayoutModel",
            "justify_items": null,
            "grid_row": null,
            "max_height": null,
            "align_content": null,
            "visibility": null,
            "align_self": null,
            "height": null,
            "min_height": null,
            "padding": null,
            "grid_auto_rows": null,
            "grid_gap": null,
            "max_width": null,
            "order": null,
            "_view_module_version": "1.2.0",
            "grid_template_areas": null,
            "object_position": null,
            "object_fit": null,
            "grid_auto_columns": null,
            "margin": null,
            "display": null,
            "left": null
          }
        },
        "6dbef76c2ef34aa59af733f31b75da09": {
          "model_module": "@jupyter-widgets/controls",
          "model_name": "SliderStyleModel",
          "model_module_version": "1.5.0",
          "state": {
            "_view_name": "StyleView",
            "handle_color": null,
            "_model_name": "SliderStyleModel",
            "description_width": "",
            "_view_module": "@jupyter-widgets/base",
            "_model_module_version": "1.5.0",
            "_view_count": null,
            "_view_module_version": "1.2.0",
            "_model_module": "@jupyter-widgets/controls"
          }
        },
        "d821fc1e301046609c56eab1fed0434d": {
          "model_module": "@jupyter-widgets/base",
          "model_name": "LayoutModel",
          "model_module_version": "1.2.0",
          "state": {
            "_view_name": "LayoutView",
            "grid_template_rows": null,
            "right": null,
            "justify_content": null,
            "_view_module": "@jupyter-widgets/base",
            "overflow": null,
            "_model_module_version": "1.2.0",
            "_view_count": null,
            "flex_flow": null,
            "width": null,
            "min_width": null,
            "border": null,
            "align_items": null,
            "bottom": null,
            "_model_module": "@jupyter-widgets/base",
            "top": null,
            "grid_column": null,
            "overflow_y": null,
            "overflow_x": null,
            "grid_auto_flow": null,
            "grid_area": null,
            "grid_template_columns": null,
            "flex": null,
            "_model_name": "LayoutModel",
            "justify_items": null,
            "grid_row": null,
            "max_height": null,
            "align_content": null,
            "visibility": null,
            "align_self": null,
            "height": null,
            "min_height": null,
            "padding": null,
            "grid_auto_rows": null,
            "grid_gap": null,
            "max_width": null,
            "order": null,
            "_view_module_version": "1.2.0",
            "grid_template_areas": null,
            "object_position": null,
            "object_fit": null,
            "grid_auto_columns": null,
            "margin": null,
            "display": null,
            "left": null
          }
        },
        "9d620dc9d6324f5fa8ab3d645ac9d89c": {
          "model_module": "@jupyter-widgets/controls",
          "model_name": "SliderStyleModel",
          "model_module_version": "1.5.0",
          "state": {
            "_view_name": "StyleView",
            "handle_color": null,
            "_model_name": "SliderStyleModel",
            "description_width": "",
            "_view_module": "@jupyter-widgets/base",
            "_model_module_version": "1.5.0",
            "_view_count": null,
            "_view_module_version": "1.2.0",
            "_model_module": "@jupyter-widgets/controls"
          }
        },
        "7c3663cf4840451593fdc497b3cc27ae": {
          "model_module": "@jupyter-widgets/base",
          "model_name": "LayoutModel",
          "model_module_version": "1.2.0",
          "state": {
            "_view_name": "LayoutView",
            "grid_template_rows": null,
            "right": null,
            "justify_content": null,
            "_view_module": "@jupyter-widgets/base",
            "overflow": null,
            "_model_module_version": "1.2.0",
            "_view_count": null,
            "flex_flow": null,
            "width": null,
            "min_width": null,
            "border": null,
            "align_items": null,
            "bottom": null,
            "_model_module": "@jupyter-widgets/base",
            "top": null,
            "grid_column": null,
            "overflow_y": null,
            "overflow_x": null,
            "grid_auto_flow": null,
            "grid_area": null,
            "grid_template_columns": null,
            "flex": null,
            "_model_name": "LayoutModel",
            "justify_items": null,
            "grid_row": null,
            "max_height": null,
            "align_content": null,
            "visibility": null,
            "align_self": null,
            "height": null,
            "min_height": null,
            "padding": null,
            "grid_auto_rows": null,
            "grid_gap": null,
            "max_width": null,
            "order": null,
            "_view_module_version": "1.2.0",
            "grid_template_areas": null,
            "object_position": null,
            "object_fit": null,
            "grid_auto_columns": null,
            "margin": null,
            "display": null,
            "left": null
          }
        },
        "4e86d7d0b96e474292f443b7d58712c0": {
          "model_module": "@jupyter-widgets/controls",
          "model_name": "SliderStyleModel",
          "model_module_version": "1.5.0",
          "state": {
            "_view_name": "StyleView",
            "handle_color": null,
            "_model_name": "SliderStyleModel",
            "description_width": "",
            "_view_module": "@jupyter-widgets/base",
            "_model_module_version": "1.5.0",
            "_view_count": null,
            "_view_module_version": "1.2.0",
            "_model_module": "@jupyter-widgets/controls"
          }
        },
        "5b000a40159c42c8baa924be0051f039": {
          "model_module": "@jupyter-widgets/base",
          "model_name": "LayoutModel",
          "model_module_version": "1.2.0",
          "state": {
            "_view_name": "LayoutView",
            "grid_template_rows": null,
            "right": null,
            "justify_content": null,
            "_view_module": "@jupyter-widgets/base",
            "overflow": null,
            "_model_module_version": "1.2.0",
            "_view_count": null,
            "flex_flow": null,
            "width": null,
            "min_width": null,
            "border": null,
            "align_items": null,
            "bottom": null,
            "_model_module": "@jupyter-widgets/base",
            "top": null,
            "grid_column": null,
            "overflow_y": null,
            "overflow_x": null,
            "grid_auto_flow": null,
            "grid_area": null,
            "grid_template_columns": null,
            "flex": null,
            "_model_name": "LayoutModel",
            "justify_items": null,
            "grid_row": null,
            "max_height": null,
            "align_content": null,
            "visibility": null,
            "align_self": null,
            "height": null,
            "min_height": null,
            "padding": null,
            "grid_auto_rows": null,
            "grid_gap": null,
            "max_width": null,
            "order": null,
            "_view_module_version": "1.2.0",
            "grid_template_areas": null,
            "object_position": null,
            "object_fit": null,
            "grid_auto_columns": null,
            "margin": null,
            "display": null,
            "left": null
          }
        },
        "3ac7cd9b4dd740c88f7d3f414ff0782f": {
          "model_module": "@jupyter-widgets/controls",
          "model_name": "SliderStyleModel",
          "model_module_version": "1.5.0",
          "state": {
            "_view_name": "StyleView",
            "handle_color": null,
            "_model_name": "SliderStyleModel",
            "description_width": "",
            "_view_module": "@jupyter-widgets/base",
            "_model_module_version": "1.5.0",
            "_view_count": null,
            "_view_module_version": "1.2.0",
            "_model_module": "@jupyter-widgets/controls"
          }
        },
        "309d7f930d7841978c3f72c00bfcd86a": {
          "model_module": "@jupyter-widgets/base",
          "model_name": "LayoutModel",
          "model_module_version": "1.2.0",
          "state": {
            "_view_name": "LayoutView",
            "grid_template_rows": null,
            "right": null,
            "justify_content": null,
            "_view_module": "@jupyter-widgets/base",
            "overflow": null,
            "_model_module_version": "1.2.0",
            "_view_count": null,
            "flex_flow": null,
            "width": null,
            "min_width": null,
            "border": null,
            "align_items": null,
            "bottom": null,
            "_model_module": "@jupyter-widgets/base",
            "top": null,
            "grid_column": null,
            "overflow_y": null,
            "overflow_x": null,
            "grid_auto_flow": null,
            "grid_area": null,
            "grid_template_columns": null,
            "flex": null,
            "_model_name": "LayoutModel",
            "justify_items": null,
            "grid_row": null,
            "max_height": null,
            "align_content": null,
            "visibility": null,
            "align_self": null,
            "height": null,
            "min_height": null,
            "padding": null,
            "grid_auto_rows": null,
            "grid_gap": null,
            "max_width": null,
            "order": null,
            "_view_module_version": "1.2.0",
            "grid_template_areas": null,
            "object_position": null,
            "object_fit": null,
            "grid_auto_columns": null,
            "margin": null,
            "display": null,
            "left": null
          }
        },
        "db08b0cdb78b418eb052455887656c82": {
          "model_module": "@jupyter-widgets/controls",
          "model_name": "ButtonStyleModel",
          "model_module_version": "1.5.0",
          "state": {
            "_view_name": "StyleView",
            "_model_name": "ButtonStyleModel",
            "_view_module": "@jupyter-widgets/base",
            "_model_module_version": "1.5.0",
            "_view_count": null,
            "button_color": "lightblue",
            "font_weight": "",
            "_view_module_version": "1.2.0",
            "_model_module": "@jupyter-widgets/controls"
          }
        },
        "9c022720836b4432ab5796a85454bcfe": {
          "model_module": "@jupyter-widgets/base",
          "model_name": "LayoutModel",
          "model_module_version": "1.2.0",
          "state": {
            "_view_name": "LayoutView",
            "grid_template_rows": null,
            "right": null,
            "justify_content": null,
            "_view_module": "@jupyter-widgets/base",
            "overflow": null,
            "_model_module_version": "1.2.0",
            "_view_count": null,
            "flex_flow": null,
            "width": null,
            "min_width": null,
            "border": null,
            "align_items": null,
            "bottom": null,
            "_model_module": "@jupyter-widgets/base",
            "top": null,
            "grid_column": null,
            "overflow_y": null,
            "overflow_x": null,
            "grid_auto_flow": null,
            "grid_area": null,
            "grid_template_columns": null,
            "flex": null,
            "_model_name": "LayoutModel",
            "justify_items": null,
            "grid_row": null,
            "max_height": null,
            "align_content": null,
            "visibility": null,
            "align_self": null,
            "height": null,
            "min_height": null,
            "padding": null,
            "grid_auto_rows": null,
            "grid_gap": null,
            "max_width": null,
            "order": null,
            "_view_module_version": "1.2.0",
            "grid_template_areas": null,
            "object_position": null,
            "object_fit": null,
            "grid_auto_columns": null,
            "margin": null,
            "display": null,
            "left": null
          }
        },
        "c6191ad5ff454123bcc4a42d8c43585e": {
          "model_module": "@jupyter-widgets/base",
          "model_name": "LayoutModel",
          "model_module_version": "1.2.0",
          "state": {
            "_view_name": "LayoutView",
            "grid_template_rows": null,
            "right": null,
            "justify_content": null,
            "_view_module": "@jupyter-widgets/base",
            "overflow": null,
            "_model_module_version": "1.2.0",
            "_view_count": null,
            "flex_flow": null,
            "width": null,
            "min_width": null,
            "border": null,
            "align_items": null,
            "bottom": null,
            "_model_module": "@jupyter-widgets/base",
            "top": null,
            "grid_column": null,
            "overflow_y": null,
            "overflow_x": null,
            "grid_auto_flow": null,
            "grid_area": null,
            "grid_template_columns": null,
            "flex": null,
            "_model_name": "LayoutModel",
            "justify_items": null,
            "grid_row": null,
            "max_height": null,
            "align_content": null,
            "visibility": null,
            "align_self": null,
            "height": null,
            "min_height": null,
            "padding": null,
            "grid_auto_rows": null,
            "grid_gap": null,
            "max_width": null,
            "order": null,
            "_view_module_version": "1.2.0",
            "grid_template_areas": null,
            "object_position": null,
            "object_fit": null,
            "grid_auto_columns": null,
            "margin": null,
            "display": null,
            "left": null
          }
        }
      }
    }
  },
  "cells": [
    {
      "cell_type": "code",
      "execution_count": null,
      "metadata": {
        "id": "vjamY-Ce3W7T"
      },
      "outputs": [],
      "source": [
        "import numpy as np\n",
        "import pandas as pd\n",
        "import seaborn as sns\n",
        "import matplotlib.pyplot as plt\n",
        "from pandas.plotting import scatter_matrix\n",
        "from sklearn import metrics \n",
        "from sklearn.pipeline import Pipeline\n",
        "from sklearn.feature_selection import SelectKBest, f_classif, RFE\n",
        "from sklearn.preprocessing import MinMaxScaler, LabelEncoder\n",
        "from sklearn.model_selection import train_test_split, cross_val_score\n",
        "from sklearn.pipeline import make_pipeline\n",
        "from sklearn.linear_model import LogisticRegression\n",
        "from sklearn.tree import DecisionTreeClassifier\n",
        "from xgboost.sklearn import XGBClassifier\n",
        "from sklearn.ensemble import GradientBoostingClassifier, RandomForestClassifier\n",
        "from sklearn.neighbors import KNeighborsClassifier\n",
        "from sklearn.naive_bayes import GaussianNB\n",
        "from sklearn.svm import SVC\n",
        "import ipywidgets as widgets\n",
        "import warnings\n",
        "warnings.filterwarnings('ignore')"
      ]
    },
    {
      "cell_type": "code",
      "source": [
        "PATH = './'\n",
        "FILENAME = 'Crop_recommendation.csv'\n",
        "data = pd.read_csv(PATH+FILENAME)"
      ],
      "metadata": {
        "id": "y5i7U7dm4cdH"
      },
      "execution_count": null,
      "outputs": []
    },
    {
      "cell_type": "code",
      "source": [
        "data.head()"
      ],
      "metadata": {
        "id": "Adwtjzu74rkc",
        "colab": {
          "base_uri": "https://localhost:8080/",
          "height": 206
        },
        "outputId": "70642d92-2b24-42ac-fe44-cee712962856"
      },
      "execution_count": null,
      "outputs": [
        {
          "output_type": "execute_result",
          "data": {
            "text/html": [
              "<div>\n",
              "<style scoped>\n",
              "    .dataframe tbody tr th:only-of-type {\n",
              "        vertical-align: middle;\n",
              "    }\n",
              "\n",
              "    .dataframe tbody tr th {\n",
              "        vertical-align: top;\n",
              "    }\n",
              "\n",
              "    .dataframe thead th {\n",
              "        text-align: right;\n",
              "    }\n",
              "</style>\n",
              "<table border=\"1\" class=\"dataframe\">\n",
              "  <thead>\n",
              "    <tr style=\"text-align: right;\">\n",
              "      <th></th>\n",
              "      <th>N</th>\n",
              "      <th>P</th>\n",
              "      <th>K</th>\n",
              "      <th>temperature</th>\n",
              "      <th>humidity</th>\n",
              "      <th>ph</th>\n",
              "      <th>rainfall</th>\n",
              "      <th>label</th>\n",
              "    </tr>\n",
              "  </thead>\n",
              "  <tbody>\n",
              "    <tr>\n",
              "      <th>0</th>\n",
              "      <td>90</td>\n",
              "      <td>42</td>\n",
              "      <td>43</td>\n",
              "      <td>20.879744</td>\n",
              "      <td>82.002744</td>\n",
              "      <td>6.502985</td>\n",
              "      <td>202.935536</td>\n",
              "      <td>rice</td>\n",
              "    </tr>\n",
              "    <tr>\n",
              "      <th>1</th>\n",
              "      <td>85</td>\n",
              "      <td>58</td>\n",
              "      <td>41</td>\n",
              "      <td>21.770462</td>\n",
              "      <td>80.319644</td>\n",
              "      <td>7.038096</td>\n",
              "      <td>226.655537</td>\n",
              "      <td>rice</td>\n",
              "    </tr>\n",
              "    <tr>\n",
              "      <th>2</th>\n",
              "      <td>60</td>\n",
              "      <td>55</td>\n",
              "      <td>44</td>\n",
              "      <td>23.004459</td>\n",
              "      <td>82.320763</td>\n",
              "      <td>7.840207</td>\n",
              "      <td>263.964248</td>\n",
              "      <td>rice</td>\n",
              "    </tr>\n",
              "    <tr>\n",
              "      <th>3</th>\n",
              "      <td>74</td>\n",
              "      <td>35</td>\n",
              "      <td>40</td>\n",
              "      <td>26.491096</td>\n",
              "      <td>80.158363</td>\n",
              "      <td>6.980401</td>\n",
              "      <td>242.864034</td>\n",
              "      <td>rice</td>\n",
              "    </tr>\n",
              "    <tr>\n",
              "      <th>4</th>\n",
              "      <td>78</td>\n",
              "      <td>42</td>\n",
              "      <td>42</td>\n",
              "      <td>20.130175</td>\n",
              "      <td>81.604873</td>\n",
              "      <td>7.628473</td>\n",
              "      <td>262.717340</td>\n",
              "      <td>rice</td>\n",
              "    </tr>\n",
              "  </tbody>\n",
              "</table>\n",
              "</div>"
            ],
            "text/plain": [
              "    N   P   K  temperature   humidity        ph    rainfall label\n",
              "0  90  42  43    20.879744  82.002744  6.502985  202.935536  rice\n",
              "1  85  58  41    21.770462  80.319644  7.038096  226.655537  rice\n",
              "2  60  55  44    23.004459  82.320763  7.840207  263.964248  rice\n",
              "3  74  35  40    26.491096  80.158363  6.980401  242.864034  rice\n",
              "4  78  42  42    20.130175  81.604873  7.628473  262.717340  rice"
            ]
          },
          "metadata": {},
          "execution_count": 4
        }
      ]
    },
    {
      "cell_type": "code",
      "source": [
        "data.info()"
      ],
      "metadata": {
        "id": "eNw6BZwO4xYY",
        "colab": {
          "base_uri": "https://localhost:8080/"
        },
        "outputId": "ce7b2dac-6cc3-4a43-e747-a4657f3e4ba0"
      },
      "execution_count": null,
      "outputs": [
        {
          "output_type": "stream",
          "name": "stdout",
          "text": [
            "<class 'pandas.core.frame.DataFrame'>\n",
            "RangeIndex: 2200 entries, 0 to 2199\n",
            "Data columns (total 8 columns):\n",
            " #   Column       Non-Null Count  Dtype  \n",
            "---  ------       --------------  -----  \n",
            " 0   N            2200 non-null   int64  \n",
            " 1   P            2200 non-null   int64  \n",
            " 2   K            2200 non-null   int64  \n",
            " 3   temperature  2200 non-null   float64\n",
            " 4   humidity     2200 non-null   float64\n",
            " 5   ph           2200 non-null   float64\n",
            " 6   rainfall     2200 non-null   float64\n",
            " 7   label        2200 non-null   object \n",
            "dtypes: float64(4), int64(3), object(1)\n",
            "memory usage: 137.6+ KB\n"
          ]
        }
      ]
    },
    {
      "cell_type": "code",
      "source": [
        "# for which crops do we have data\n",
        "crop_names = data['label'].unique()\n",
        "print(crop_names)\n",
        "\n",
        "# how many types of crops are there in the dataset\n",
        "print(data['label'].unique().shape)"
      ],
      "metadata": {
        "id": "8C9RCNB544KC",
        "colab": {
          "base_uri": "https://localhost:8080/"
        },
        "outputId": "ce33231f-b763-4e7f-ddb9-0234dc428a71"
      },
      "execution_count": null,
      "outputs": [
        {
          "output_type": "stream",
          "name": "stdout",
          "text": [
            "['rice' 'pomegranate' 'chickpea' 'kidneybeans' 'pigeonpeas' 'mothbeans'\n",
            " 'mungbean' 'blackgram' 'lentil' 'maize' 'banana' 'mango' 'grapes'\n",
            " 'watermelon' 'muskmelon' 'apple' 'orange' 'papaya' 'coconut' 'cotton'\n",
            " 'jute' 'coffee']\n",
            "(22,)\n"
          ]
        }
      ]
    },
    {
      "cell_type": "code",
      "source": [
        "# how many data points do we have per crop\n",
        "data['label'].value_counts()"
      ],
      "metadata": {
        "id": "f1SM_h785K3t",
        "colab": {
          "base_uri": "https://localhost:8080/"
        },
        "outputId": "7d9a450d-b8c8-46ec-9937-080e88c6e020"
      },
      "execution_count": null,
      "outputs": [
        {
          "output_type": "execute_result",
          "data": {
            "text/plain": [
              "coffee         100\n",
              "blackgram      100\n",
              "orange         100\n",
              "watermelon     100\n",
              "kidneybeans    100\n",
              "muskmelon      100\n",
              "maize          100\n",
              "lentil         100\n",
              "rice           100\n",
              "grapes         100\n",
              "mungbean       100\n",
              "cotton         100\n",
              "mothbeans      100\n",
              "jute           100\n",
              "chickpea       100\n",
              "coconut        100\n",
              "papaya         100\n",
              "mango          100\n",
              "pomegranate    100\n",
              "pigeonpeas     100\n",
              "banana         100\n",
              "apple          100\n",
              "Name: label, dtype: int64"
            ]
          },
          "metadata": {},
          "execution_count": 7
        }
      ]
    },
    {
      "cell_type": "code",
      "source": [
        "# do we have missing data\n",
        "data.isnull().sum()\n",
        "# nope, all good!"
      ],
      "metadata": {
        "id": "zWmExjSm5N16",
        "colab": {
          "base_uri": "https://localhost:8080/"
        },
        "outputId": "d2e6278a-cf3d-4999-e1e2-dee9b55fff75"
      },
      "execution_count": null,
      "outputs": [
        {
          "output_type": "execute_result",
          "data": {
            "text/plain": [
              "N              0\n",
              "P              0\n",
              "K              0\n",
              "temperature    0\n",
              "humidity       0\n",
              "ph             0\n",
              "rainfall       0\n",
              "label          0\n",
              "dtype: int64"
            ]
          },
          "metadata": {},
          "execution_count": 8
        }
      ]
    },
    {
      "cell_type": "code",
      "source": [
        "# let's introduce more meaningful labels \n",
        "data.rename(columns={'N':'nitrogen','P':'phosphorus','K':'potassium','label':'crop'}, inplace=True)\n",
        "data.head()"
      ],
      "metadata": {
        "id": "fR_mXWKA5Sh_",
        "colab": {
          "base_uri": "https://localhost:8080/",
          "height": 206
        },
        "outputId": "94fc5403-bf91-4ed8-b43f-7364598e9a9d"
      },
      "execution_count": null,
      "outputs": [
        {
          "output_type": "execute_result",
          "data": {
            "text/html": [
              "<div>\n",
              "<style scoped>\n",
              "    .dataframe tbody tr th:only-of-type {\n",
              "        vertical-align: middle;\n",
              "    }\n",
              "\n",
              "    .dataframe tbody tr th {\n",
              "        vertical-align: top;\n",
              "    }\n",
              "\n",
              "    .dataframe thead th {\n",
              "        text-align: right;\n",
              "    }\n",
              "</style>\n",
              "<table border=\"1\" class=\"dataframe\">\n",
              "  <thead>\n",
              "    <tr style=\"text-align: right;\">\n",
              "      <th></th>\n",
              "      <th>nitrogen</th>\n",
              "      <th>phosphorus</th>\n",
              "      <th>potassium</th>\n",
              "      <th>temperature</th>\n",
              "      <th>humidity</th>\n",
              "      <th>ph</th>\n",
              "      <th>rainfall</th>\n",
              "      <th>crop</th>\n",
              "    </tr>\n",
              "  </thead>\n",
              "  <tbody>\n",
              "    <tr>\n",
              "      <th>0</th>\n",
              "      <td>90</td>\n",
              "      <td>42</td>\n",
              "      <td>43</td>\n",
              "      <td>20.879744</td>\n",
              "      <td>82.002744</td>\n",
              "      <td>6.502985</td>\n",
              "      <td>202.935536</td>\n",
              "      <td>rice</td>\n",
              "    </tr>\n",
              "    <tr>\n",
              "      <th>1</th>\n",
              "      <td>85</td>\n",
              "      <td>58</td>\n",
              "      <td>41</td>\n",
              "      <td>21.770462</td>\n",
              "      <td>80.319644</td>\n",
              "      <td>7.038096</td>\n",
              "      <td>226.655537</td>\n",
              "      <td>rice</td>\n",
              "    </tr>\n",
              "    <tr>\n",
              "      <th>2</th>\n",
              "      <td>60</td>\n",
              "      <td>55</td>\n",
              "      <td>44</td>\n",
              "      <td>23.004459</td>\n",
              "      <td>82.320763</td>\n",
              "      <td>7.840207</td>\n",
              "      <td>263.964248</td>\n",
              "      <td>rice</td>\n",
              "    </tr>\n",
              "    <tr>\n",
              "      <th>3</th>\n",
              "      <td>74</td>\n",
              "      <td>35</td>\n",
              "      <td>40</td>\n",
              "      <td>26.491096</td>\n",
              "      <td>80.158363</td>\n",
              "      <td>6.980401</td>\n",
              "      <td>242.864034</td>\n",
              "      <td>rice</td>\n",
              "    </tr>\n",
              "    <tr>\n",
              "      <th>4</th>\n",
              "      <td>78</td>\n",
              "      <td>42</td>\n",
              "      <td>42</td>\n",
              "      <td>20.130175</td>\n",
              "      <td>81.604873</td>\n",
              "      <td>7.628473</td>\n",
              "      <td>262.717340</td>\n",
              "      <td>rice</td>\n",
              "    </tr>\n",
              "  </tbody>\n",
              "</table>\n",
              "</div>"
            ],
            "text/plain": [
              "   nitrogen  phosphorus  potassium  ...        ph    rainfall  crop\n",
              "0        90          42         43  ...  6.502985  202.935536  rice\n",
              "1        85          58         41  ...  7.038096  226.655537  rice\n",
              "2        60          55         44  ...  7.840207  263.964248  rice\n",
              "3        74          35         40  ...  6.980401  242.864034  rice\n",
              "4        78          42         42  ...  7.628473  262.717340  rice\n",
              "\n",
              "[5 rows x 8 columns]"
            ]
          },
          "metadata": {},
          "execution_count": 9
        }
      ]
    },
    {
      "cell_type": "code",
      "source": [
        "# create variables that define what our dependent and independent variables are\n",
        "features = ['nitrogen','phosphorus','potassium','temperature','humidity','ph','rainfall']\n",
        "target = ['crop']\n",
        "# let's split the data up into features and labels\n",
        "X = data[features]\n",
        "y = data[target]"
      ],
      "metadata": {
        "id": "KJOfA_ee5a9Z"
      },
      "execution_count": null,
      "outputs": []
    },
    {
      "cell_type": "code",
      "source": [
        "# TRAINING AND TESTING DATA\n",
        "# test size defaults to 25% of whole dataset\n",
        "X_train,X_test,y_train,y_test = train_test_split(X,y,test_size=.33)"
      ],
      "metadata": {
        "id": "6UmOHWMm5kq7"
      },
      "execution_count": null,
      "outputs": []
    },
    {
      "cell_type": "code",
      "source": [
        "# DATA PREPROCESSING\n",
        "for ii, col in enumerate(features):\n",
        "  print('{} (min,max): \\t \\t {:.2f} {:.2f}'.format(col,data[col].min(),data[col].max()))"
      ],
      "metadata": {
        "id": "YHRoCJm75zAs",
        "colab": {
          "base_uri": "https://localhost:8080/"
        },
        "outputId": "32d0787a-2b74-4968-b6ba-f4b97eb79be8"
      },
      "execution_count": null,
      "outputs": [
        {
          "output_type": "stream",
          "name": "stdout",
          "text": [
            "nitrogen (min,max): \t \t 0.00 140.00\n",
            "phosphorus (min,max): \t \t 5.00 145.00\n",
            "potassium (min,max): \t \t 5.00 205.00\n",
            "temperature (min,max): \t \t 8.83 43.68\n",
            "humidity (min,max): \t \t 14.26 99.98\n",
            "ph (min,max): \t \t 3.50 9.94\n",
            "rainfall (min,max): \t \t 20.21 298.56\n"
          ]
        }
      ]
    },
    {
      "cell_type": "code",
      "source": [
        "# scale inputs. It's important that we apply the scaling after splitting data into training and test\n",
        "# Otherwise, we would introduce a bias in the training, as the scaling would depend on the test data which \n",
        "# in practice is not available during training\n",
        "mmscaler = MinMaxScaler() \n",
        "X_train = mmscaler.fit_transform(X_train)\n",
        "X_test = mmscaler.transform(X_test)\n",
        "# convert labels to numerical values \n",
        "y_train = LabelEncoder().fit_transform(np.asarray(y_train).ravel())\n",
        "y_test = LabelEncoder().fit_transform(np.asarray(y_test).ravel())"
      ],
      "metadata": {
        "id": "BeaKG54I6YQF"
      },
      "execution_count": null,
      "outputs": []
    },
    {
      "cell_type": "code",
      "source": [
        "for ii, col in enumerate(features):\n",
        "  print('{} (min,max): \\t \\t {:.2f} {:.2f}'.format(col,X_train[:,ii].min(),X_train[:,ii].max()))"
      ],
      "metadata": {
        "id": "P6rPvKRO6a1h",
        "colab": {
          "base_uri": "https://localhost:8080/"
        },
        "outputId": "4369acd6-b985-4e7d-e02b-e65559f0bbc1"
      },
      "execution_count": null,
      "outputs": [
        {
          "output_type": "stream",
          "name": "stdout",
          "text": [
            "nitrogen (min,max): \t \t 0.00 1.00\n",
            "phosphorus (min,max): \t \t 0.00 1.00\n",
            "potassium (min,max): \t \t 0.00 1.00\n",
            "temperature (min,max): \t \t 0.00 1.00\n",
            "humidity (min,max): \t \t 0.00 1.00\n",
            "ph (min,max): \t \t 0.00 1.00\n",
            "rainfall (min,max): \t \t 0.00 1.00\n"
          ]
        }
      ]
    },
    {
      "cell_type": "code",
      "source": [
        "# TRAINING THE ALGORITHM\n",
        "# define our model. This is a one-liner, thanks to the powerful machine learning library scikit-learn.\n",
        "model = RandomForestClassifier()\n",
        "# fit the model to the training data \n",
        "model.fit(X_train,y_train)\n",
        "# get predictions on the test data \n",
        "y_pred=model.predict(X_test)\n",
        "# print training and test accuracy\n",
        "print('Training Accuracy: {:.2f}%, Test Accuracy: {:.2f}%'.format(metrics.accuracy_score(y_train,model.predict(X_train))*100,metrics.accuracy_score(y_test,model.predict(X_test))*100))"
      ],
      "metadata": {
        "id": "iBtsTIhU672j",
        "colab": {
          "base_uri": "https://localhost:8080/"
        },
        "outputId": "85605532-30d5-408d-f817-9f97a027aaf4"
      },
      "execution_count": null,
      "outputs": [
        {
          "output_type": "stream",
          "name": "stdout",
          "text": [
            "Training Accuracy: 100.00%, Test Accuracy: 99.72%\n"
          ]
        }
      ]
    },
    {
      "cell_type": "code",
      "source": [
        "# EVALUATING ALGORITHM\n",
        "# confusion matrix\n",
        "from sklearn.metrics import confusion_matrix\n",
        "y_pred=model.predict(X_test)\n",
        "metrics.accuracy_score(y_test,y_pred)\n",
        "plt.figure(figsize=(10,10))\n",
        "sns.heatmap(confusion_matrix(y_pred,y_test),square=True,cmap='Blues_r',annot=True,fmt=\".0f\",linewidths=.5)\n",
        "ax = plt.gca()\n",
        "_ = ax.set_xticklabels(crop_names,rotation='vertical')\n",
        "_ = ax.set_yticklabels(crop_names,rotation='horizontal')\n",
        "plt.tight_layout()\n"
      ],
      "metadata": {
        "id": "7ZKHjXXV7FOH",
        "colab": {
          "base_uri": "https://localhost:8080/",
          "height": 710
        },
        "outputId": "e7aa3e00-0213-402e-b4fb-1eeaadb3cb8d"
      },
      "execution_count": null,
      "outputs": [
        {
          "output_type": "display_data",
          "data": {
            "image/png": "[encoded data removed]",
            "text/plain": [
              "<Figure size 720x720 with 2 Axes>"
            ]
          },
          "metadata": {
            "needs_background": "light"
          }
        }
      ]
    },
    {
      "cell_type": "code",
      "source": [
        "print(metrics.classification_report(y_pred,y_test))"
      ],
      "metadata": {
        "id": "pBF7EH478j4Z",
        "colab": {
          "base_uri": "https://localhost:8080/"
        },
        "outputId": "7541299f-cc29-4b76-af21-249472d50155"
      },
      "execution_count": null,
      "outputs": [
        {
          "output_type": "stream",
          "name": "stdout",
          "text": [
            "              precision    recall  f1-score   support\n",
            "\n",
            "           0       1.00      1.00      1.00        34\n",
            "           1       1.00      1.00      1.00        27\n",
            "           2       1.00      1.00      1.00        28\n",
            "           3       1.00      1.00      1.00        35\n",
            "           4       1.00      1.00      1.00        37\n",
            "           5       1.00      1.00      1.00        39\n",
            "           6       1.00      1.00      1.00        35\n",
            "           7       1.00      1.00      1.00        31\n",
            "           8       0.97      0.97      0.97        32\n",
            "           9       1.00      1.00      1.00        28\n",
            "          10       1.00      1.00      1.00        28\n",
            "          11       1.00      1.00      1.00        41\n",
            "          12       1.00      1.00      1.00        37\n",
            "          13       1.00      1.00      1.00        33\n",
            "          14       1.00      1.00      1.00        25\n",
            "          15       1.00      1.00      1.00        30\n",
            "          16       1.00      1.00      1.00        34\n",
            "          17       1.00      1.00      1.00        29\n",
            "          18       1.00      1.00      1.00        38\n",
            "          19       1.00      1.00      1.00        39\n",
            "          20       0.96      0.96      0.96        25\n",
            "          21       1.00      1.00      1.00        41\n",
            "\n",
            "    accuracy                           1.00       726\n",
            "   macro avg       1.00      1.00      1.00       726\n",
            "weighted avg       1.00      1.00      1.00       726\n",
            "\n"
          ]
        }
      ]
    },
    {
      "cell_type": "code",
      "source": [
        "from sklearn import tree\n",
        "\n",
        "# fit a smaller forest with a maximum depth of 3 (this is how many consecutive \n",
        "# decision the algorithm can make). As a consequence, the accuracy will be lower\n",
        "# but it'll be easier to visualise it\n",
        "small_rf = RandomForestClassifier(max_depth=3)\n",
        "# fit the forest to the training data \n",
        "small_rf.fit(X_train,y_train)\n",
        "# get predictions on the test data \n",
        "y_pred=small_rf.predict(X_test)\n",
        "# print training and test accuracy\n",
        "print('Training Accuracy: {:.2f}%, Test Accuracy: {:.2f}%'.format(metrics.accuracy_score(y_train,small_rf.predict(X_train))*100,metrics.accuracy_score(y_test,small_rf.predict(X_test))*100))\n",
        "\n",
        "\n",
        "# obtain list of decision trees\n",
        "trees = small_rf.estimators_\n",
        "# how many are there\n",
        "print('there are {n} trees in the forest'.format(n=len(trees)))\n",
        "\n",
        "# visualise the first tree \n",
        "fig, axes = plt.subplots(nrows = 1,ncols = 1,figsize = (30,30),dpi=75)\n",
        "tree.plot_tree(trees[0],\n",
        "               feature_names = features, \n",
        "               class_names=crop_names,\n",
        "               filled = True);"
      ],
      "metadata": {
        "id": "RU4yianm8zJ_",
        "colab": {
          "base_uri": "https://localhost:8080/",
          "height": 948
        },
        "outputId": "beb9c296-a599-47e2-df4f-e5439f439d78"
      },
      "execution_count": null,
      "outputs": [
        {
          "output_type": "stream",
          "name": "stdout",
          "text": [
            "Training Accuracy: 88.06%, Test Accuracy: 88.57%\n",
            "there are 100 trees in the forest\n"
          ]
        },
        {
          "output_type": "display_data",
          "data": {
            "image/png": "[encoded data removed]",
            "text/plain": [
              "<Figure size 2250x2250 with 1 Axes>"
            ]
          },
          "metadata": {
            "needs_background": "light"
          }
        }
      ]
    },
    {
      "cell_type": "code",
      "source": [
        "import ipywidgets as widgets"
      ],
      "metadata": {
        "id": "BT9-wuI9-a_U"
      },
      "execution_count": null,
      "outputs": []
    },
    {
      "cell_type": "code",
      "source": [
        "def get_predictions(x1,x2,x3,x4,x5,x6,x7):\n",
        "    feature = mmscaler.transform(np.asarray([x1,x2,x3,x4,x5,x6,x7]).reshape((1,-1)))\n",
        "    croptoplant = crop_names[model.predict(feature).item()]\n",
        "    print('{} should grow very well under these conditions'.format(croptoplant.upper()))"
      ],
      "metadata": {
        "id": "xYd0BuCp-kEd"
      },
      "execution_count": null,
      "outputs": []
    },
    {
      "cell_type": "code",
      "source": [
        "N = widgets.FloatSlider(min=0.0, max=140.0, value=25.0, step=2.5, description=\"Nitrogen\")\n",
        "P = widgets.FloatSlider(min=5.0, max=145.0, value=25.0, step=2.5, description=\"Phosphorus\")\n",
        "K = widgets.FloatSlider(min=5.0, max=205.0, value=25.0, step=2.5, description=\"Potassium\")\n",
        "temp = widgets.FloatSlider(min=10.0, max=44.0, value=25.0, step=2.5, description=\"Temperature\")\n",
        "hum = widgets.FloatSlider(min=15.0, max=99.0, value=25.0, step=2.5, description=\"humidity\")\n",
        "ph = widgets.FloatSlider(min=3.5, max=9.9, value=5.0, step=.5, description=\"pH\")\n",
        "rain = widgets.FloatSlider(min=20.0, max=298.0, value=25.0, step=2.5, description=\"Rainfall (mm)\")\n",
        "    \n",
        "im = widgets.interact_manual(get_predictions,x1=N,x2=P,x3=K,x4=temp,x5=hum,x6=ph,x7=rain)\n",
        "_ = im.widget.children[-2].description = 'GET PREDICTION'\n",
        "_ = im.widget.children[-2].style.button_color='lightblue'\n",
        "\n",
        "display(im)"
      ],
      "metadata": {
        "id": "ZbQmdxkj-x9b",
        "colab": {
          "base_uri": "https://localhost:8080/",
          "height": 290,
          "referenced_widgets": [
            "52c2e61348594f58950e6b2736a23cbd",
            "0dee834b9eb947ddb561e42ecc55575b",
            "cd64e99d8f0f42798d9f17443632c4af",
            "485c5e20f3d642ada42687c9f2ce9acd",
            "82dea46921b1444cb89b7b65e180a858",
            "614aa8b72e6547638b5eb7cfa0e0d11a",
            "992f4ee0d96a469daa15e9d4eed145d8",
            "53c822ff6a4c42c1b6284a30e1a1007b",
            "b5e109cff86a417c94fdafae73133da8",
            "69fe65cea3d54e57909e2ca402308315",
            "72d6c8aca0a844d88b2d711af7124c28",
            "1e4e8d54051949999acba03b3837cc73",
            "fd681f8df94144c797fc69f05ca1bc47",
            "fae61c3eafbd467493db330e1b04f396",
            "fdf1794f58e84bc4b72de3401c15f2f7",
            "877b446e31aa4b969b7567d40c0db560",
            "5c4af2a1bbdb493cacd9b1509673d004",
            "6dbef76c2ef34aa59af733f31b75da09",
            "d821fc1e301046609c56eab1fed0434d",
            "9d620dc9d6324f5fa8ab3d645ac9d89c",
            "7c3663cf4840451593fdc497b3cc27ae",
            "4e86d7d0b96e474292f443b7d58712c0",
            "5b000a40159c42c8baa924be0051f039",
            "3ac7cd9b4dd740c88f7d3f414ff0782f",
            "309d7f930d7841978c3f72c00bfcd86a",
            "db08b0cdb78b418eb052455887656c82",
            "9c022720836b4432ab5796a85454bcfe",
            "c6191ad5ff454123bcc4a42d8c43585e"
          ]
        },
        "outputId": "fcf8a495-8f67-4e44-b855-5a0465b6ee7b"
      },
      "execution_count": null,
      "outputs": [
        {
          "output_type": "display_data",
          "data": {
            "application/vnd.jupyter.widget-view+json": {
              "model_id": "52c2e61348594f58950e6b2736a23cbd",
              "version_minor": 0,
              "version_major": 2
            },
            "text/plain": [
              "interactive(children=(FloatSlider(value=25.0, description='Nitrogen', max=140.0, step=2.5), FloatSlider(value=…"
            ]
          },
          "metadata": {}
        },
        {
          "output_type": "display_data",
          "data": {
            "text/plain": [
              "<function __main__.get_predictions>"
            ]
          },
          "metadata": {}
        }
      ]
    },
    {
      "cell_type": "code",
      "source": [
        "# feature selection\n",
        "selector = SelectKBest(score_func=f_classif,k='all')\n",
        "X_train_kbest = selector.fit_transform(X_train,np.asarray(y_train).ravel())\n",
        "scores = selector.scores_\n",
        "\n",
        "\n",
        "X_test_kbest = selector.transform(X_test)\n",
        "mask = selector.get_support() #list of booleans\n",
        "new_features = [] \n",
        "scores = scores[mask==True]\n",
        "for bool, feature in zip(mask, features):\n",
        "    if bool:\n",
        "        new_features.append(feature)\n",
        "        \n",
        "_ = sns.barplot(x=new_features,y=scores,log=True)\n",
        "plt.ylabel('Univariate score')\n",
        "plt.xlabel('predictor' )\n",
        "_= plt.xticks(ticks=np.arange(X_train_kbest.shape[-1]),labels=new_features,rotation='vertical')"
      ],
      "metadata": {
        "id": "-lqaUGGu_Je3",
        "colab": {
          "base_uri": "https://localhost:8080/",
          "height": 332
        },
        "outputId": "d112549f-a67c-44d7-b764-59f3a5a6fd87"
      },
      "execution_count": null,
      "outputs": [
        {
          "output_type": "display_data",
          "data": {
            "image/png": "[encoded data removed]",
            "text/plain": [
              "<Figure size 432x288 with 1 Axes>"
            ]
          },
          "metadata": {
            "needs_background": "light"
          }
        }
      ]
    },
    {
      "cell_type": "code",
      "source": [
        "selector = SelectKBest(score_func=f_classif,k=5)\n",
        "X_train_kbest = selector.fit_transform(X_train,np.asarray(y_train).ravel())\n",
        "scores = selector.scores_\n",
        "\n",
        "\n",
        "X_test_kbest = selector.transform(X_test)\n",
        "mask = selector.get_support() #list of booleans\n",
        "new_features = [] \n",
        "scores = scores[mask==True]\n",
        "for bool, feature in zip(mask, features):\n",
        "    if bool:\n",
        "        new_features.append(feature)\n",
        "\n",
        "# check if it dropped temperature and ph        \n",
        "print(new_features)\n",
        "\n",
        "# run training and test on reduced dataset \n",
        "model_reduced = RandomForestClassifier()\n",
        "model_reduced.fit(X_train[:,mask],y_train)\n",
        "\n",
        "# print training and test accuracy\n",
        "print('all features: Training Accuracy: {:.2f}%, Test Accuracy: {:.2f}%'.format(metrics.accuracy_score(y_train,model.predict(X_train))*100,metrics.accuracy_score(y_test,model.predict(X_test))*100))\n",
        "print('fewer features: Training Accuracy: {:.2f}%, Test Accuracy: {:.2f}%'.format(metrics.accuracy_score(y_train,model_reduced.predict(X_train[:,mask]))*100,metrics.accuracy_score(y_test,model_reduced.predict(X_test[:,mask]))*100))"
      ],
      "metadata": {
        "id": "SOYvv00RCvNR",
        "colab": {
          "base_uri": "https://localhost:8080/"
        },
        "outputId": "5745cb5a-1b1a-4685-cc95-073c278c0120"
      },
      "execution_count": null,
      "outputs": [
        {
          "output_type": "stream",
          "name": "stdout",
          "text": [
            "['nitrogen', 'phosphorus', 'potassium', 'humidity', 'rainfall']\n",
            "all features: Training Accuracy: 100.00%, Test Accuracy: 99.72%\n",
            "fewer features: Training Accuracy: 100.00%, Test Accuracy: 99.59%\n"
          ]
        }
      ]
    },
    {
      "cell_type": "code",
      "source": [
        "# comparision of different classifiers\n",
        "models = []\n",
        "models.append(('LogisticRegression',LogisticRegression(max_iter=5000)))\n",
        "models.append(('DecisionTreeClassifier',DecisionTreeClassifier()))\n",
        "models.append(('XGBClassifier',XGBClassifier(use_label_encoder=False,eval_metric='mlogloss')))\n",
        "models.append(('GradientBoostingClassifier',GradientBoostingClassifier()))\n",
        "models.append(('RandomForestClassifier',RandomForestClassifier()))\n",
        "models.append(('KNeighborsClassifier',KNeighborsClassifier()))\n",
        "models.append(('GaussianNB',GaussianNB()))\n",
        "models.append(('SVM',SVC()))\n",
        "\n",
        "# same as above, but in cross-validation\n",
        "nfolds = 5\n",
        "print('{} fold cv'.format(nfolds))\n",
        "X_cv = np.asarray(X)\n",
        "y_cv = LabelEncoder().fit_transform(np.asarray(y).ravel())\n",
        "\n",
        "for name,model in models:\n",
        "    # apply transformation to each individual fold\n",
        "    pipeline = Pipeline([('transformer', MinMaxScaler()), ('estimator', model)])    \n",
        "    scores = cross_val_score(pipeline, X_cv,y_cv , cv=nfolds)\n",
        "    print(name, np.round(scores.mean(),3))"
      ],
      "metadata": {
        "id": "VBmTiQaBDKNr",
        "colab": {
          "base_uri": "https://localhost:8080/"
        },
        "outputId": "ae680bdf-8ea4-41af-da7a-e95c1aec0946"
      },
      "execution_count": null,
      "outputs": [
        {
          "output_type": "stream",
          "name": "stdout",
          "text": [
            "5 fold cv\n",
            "LogisticRegression 0.94\n",
            "DecisionTreeClassifier 0.987\n",
            "XGBClassifier 0.99\n",
            "GradientBoostingClassifier 0.99\n",
            "RandomForestClassifier 0.994\n",
            "KNeighborsClassifier 0.98\n",
            "GaussianNB 0.995\n",
            "SVM 0.983\n"
          ]
        }
      ]
    }
  ]
}